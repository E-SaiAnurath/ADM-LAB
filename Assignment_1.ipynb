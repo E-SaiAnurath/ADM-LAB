{
  "nbformat": 4,
  "nbformat_minor": 0,
  "metadata": {
    "colab": {
      "provenance": [],
      "authorship_tag": "ABX9TyOAFkDPHIJlchj0PvcQ+aoo",
      "include_colab_link": true
    },
    "kernelspec": {
      "name": "python3",
      "display_name": "Python 3"
    },
    "language_info": {
      "name": "python"
    }
  },
  "cells": [
    {
      "cell_type": "markdown",
      "metadata": {
        "id": "view-in-github",
        "colab_type": "text"
      },
      "source": [
        "<a href=\"https://colab.research.google.com/github/E-SaiAnurath/ADM-LAB/blob/main/Assignment_1.ipynb\" target=\"_parent\"><img src=\"https://colab.research.google.com/assets/colab-badge.svg\" alt=\"Open In Colab\"/></a>"
      ]
    },
    {
      "cell_type": "code",
      "execution_count": 1,
      "metadata": {
        "colab": {
          "base_uri": "https://localhost:8080/",
          "height": 0
        },
        "id": "aMFPMlfdf_IE",
        "outputId": "1acf87db-35e6-4dc8-96d0-d6634ad30fa4"
      },
      "outputs": [
        {
          "output_type": "stream",
          "name": "stdout",
          "text": [
            "Dataset before preprocessing:\n",
            "   Employee_ID   Age    Salary  Job_Satisfaction  Work_Hours_Per_Week\n",
            "0         1001  50.0  108953.0               9.0                   36\n",
            "1         1002  36.0   82995.0               8.0                   59\n",
            "2         1003  29.0   70757.0               2.0                   30\n",
            "3         1004  42.0   39692.0               1.0                   30\n",
            "4         1005  40.0   75758.0               7.0                   54\n",
            "\n",
            "Dataset after preprocessing:\n",
            "   Employee_ID   Age    Salary  Job_Satisfaction  Work_Hours_Per_Week  \\\n",
            "0         1001  50.0  108953.0               9.0                   36   \n",
            "1         1002  36.0   82995.0               8.0                   59   \n",
            "2         1003  29.0   70757.0               2.0                   30   \n",
            "3         1004  42.0   39692.0               1.0                   30   \n",
            "4         1005  40.0   75758.0               7.0                   54   \n",
            "\n",
            "   Age_MinMax  Salary_MinMax  Age_MinMax_Manual  Salary_MinMax_Manual  \\\n",
            "0    0.750000       0.877708           0.750000              0.877708   \n",
            "1    0.361111       0.585375           0.361111              0.585375   \n",
            "2    0.166667       0.447554           0.166667              0.447554   \n",
            "3    0.527778       0.097707           0.527778              0.097707   \n",
            "4    0.472222       0.503874           0.472222              0.503874   \n",
            "\n",
            "   Job_Satisfaction_Z  Work_Hours_Z  Job_Satisfaction_Z_Manual  \\\n",
            "0            1.432782     -0.905969                   1.418381   \n",
            "1            1.017483      1.483629                   1.007256   \n",
            "2           -1.474311     -1.529343                  -1.459494   \n",
            "3           -1.889610     -1.529343                  -1.870619   \n",
            "4            0.602184      0.964151                   0.596131   \n",
            "\n",
            "   Work_Hours_Per_Week_Z_Manual  \n",
            "0                     -0.896864  \n",
            "1                      1.468717  \n",
            "2                     -1.513972  \n",
            "3                     -1.513972  \n",
            "4                      0.954461  \n",
            "Processed dataset saved as 'processed_employee_data.csv'\n"
          ]
        },
        {
          "output_type": "stream",
          "name": "stderr",
          "text": [
            "<ipython-input-1-4be69f4b5901>:16: FutureWarning: A value is trying to be set on a copy of a DataFrame or Series through chained assignment using an inplace method.\n",
            "The behavior will change in pandas 3.0. This inplace method will never work because the intermediate object on which we are setting values always behaves as a copy.\n",
            "\n",
            "For example, when doing 'df[col].method(value, inplace=True)', try using 'df.method({col: value}, inplace=True)' or df[col] = df[col].method(value) instead, to perform the operation inplace on the original object.\n",
            "\n",
            "\n",
            "  data[col].fillna(data[col].mean(), inplace=True)  # Impute with mean\n"
          ]
        }
      ],
      "source": [
        "import pandas as pd\n",
        "import numpy as np\n",
        "from sklearn.preprocessing import MinMaxScaler, StandardScaler\n",
        "\n",
        "# Load the dataset\n",
        "data = pd.read_csv(\"employee_data.csv\")\n",
        "\n",
        "# Display the dataset before preprocessing\n",
        "print(\"Dataset before preprocessing:\")\n",
        "print(data.head())\n",
        "\n",
        "# Step 2: Handle missing values\n",
        "# Impute missing values for numerical columns using mean or median\n",
        "numerical_cols = ['Age', 'Salary', 'Job_Satisfaction']\n",
        "for col in numerical_cols:\n",
        "    data[col].fillna(data[col].mean(), inplace=True)  # Impute with mean\n",
        "\n",
        "# Impute missing values for categorical columns using mode\n",
        "categorical_cols = data.select_dtypes(include=['object']).columns\n",
        "for col in categorical_cols:\n",
        "    data[col].fillna(data[col].mode()[0], inplace=True)\n",
        "\n",
        "# Step 3: Feature scaling\n",
        "# Min-Max Scaling (for Age and Salary)\n",
        "min_max_scaler = MinMaxScaler()\n",
        "data[['Age_MinMax', 'Salary_MinMax']] = min_max_scaler.fit_transform(data[['Age', 'Salary']])\n",
        "\n",
        "# Manual Min-Max Scaling\n",
        "for col in ['Age', 'Salary']:\n",
        "    data[f\"{col}_MinMax_Manual\"] = (data[col] - data[col].min()) / (data[col].max() - data[col].min())\n",
        "\n",
        "# Standardization (Z-score normalization) (for Job_Satisfaction, Work_Hours_Per_Week)\n",
        "standard_scaler = StandardScaler()\n",
        "data[['Job_Satisfaction_Z', 'Work_Hours_Z']] = standard_scaler.fit_transform(data[['Job_Satisfaction', 'Work_Hours_Per_Week']])\n",
        "\n",
        "# Manual Standardization\n",
        "for col in ['Job_Satisfaction', 'Work_Hours_Per_Week']:\n",
        "    data[f\"{col}_Z_Manual\"] = (data[col] - data[col].mean()) / data[col].std()\n",
        "\n",
        "# Display the dataset after preprocessing\n",
        "print(\"\\nDataset after preprocessing:\")\n",
        "print(data.head())\n",
        "\n",
        "# Save the processed dataset to a new CSV file\n",
        "data.to_csv(\"processed_employee_data.csv\", index=False)\n",
        "print(\"Processed dataset saved as 'processed_employee_data.csv'\")"
      ]
    }
  ]
}