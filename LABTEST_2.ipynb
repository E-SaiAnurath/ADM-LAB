{
  "nbformat": 4,
  "nbformat_minor": 0,
  "metadata": {
    "colab": {
      "provenance": [],
      "authorship_tag": "ABX9TyOx0RkxdKOqUTA2lh84GZty",
      "include_colab_link": true
    },
    "kernelspec": {
      "name": "python3",
      "display_name": "Python 3"
    },
    "language_info": {
      "name": "python"
    }
  },
  "cells": [
    {
      "cell_type": "markdown",
      "metadata": {
        "id": "view-in-github",
        "colab_type": "text"
      },
      "source": [
        "<a href=\"https://colab.research.google.com/github/E-SaiAnurath/ADM-LAB/blob/main/LABTEST_2.ipynb\" target=\"_parent\"><img src=\"https://colab.research.google.com/assets/colab-badge.svg\" alt=\"Open In Colab\"/></a>"
      ]
    },
    {
      "cell_type": "markdown",
      "source": [
        "# LAB TEST-2\n"
      ],
      "metadata": {
        "id": "NG802JHy78Cf"
      }
    },
    {
      "cell_type": "markdown",
      "source": [
        "# Q1"
      ],
      "metadata": {
        "id": "HVvvCgCm8NEi"
      }
    },
    {
      "cell_type": "code",
      "execution_count": 3,
      "metadata": {
        "colab": {
          "base_uri": "https://localhost:8080/"
        },
        "id": "5RJpql-R5744",
        "outputId": "a661d859-14a8-4086-c3fe-3bfed14a4f06"
      },
      "outputs": [
        {
          "output_type": "stream",
          "name": "stdout",
          "text": [
            "The rent if the area is 850 and bedrooms are 2 is: 11499.999999999998\n"
          ]
        }
      ],
      "source": [
        "import numpy as np\n",
        "from sklearn.linear_model import LinearRegression\n",
        "X = np.array([[600, 1], [800, 2], [1000, 2]])\n",
        "y = np.array([8000, 11000, 13000])\n",
        "model = LinearRegression()\n",
        "model.fit(X, y)\n",
        "predicted_rent = model.predict([[850, 2]])\n",
        "print(\"The rent if the area is 850 and bedrooms are 2 is:\", predicted_rent[0])"
      ]
    },
    {
      "cell_type": "markdown",
      "source": [
        "# Q2"
      ],
      "metadata": {
        "id": "VIOPJj_P8A7G"
      }
    },
    {
      "cell_type": "code",
      "source": [
        "from sklearn.metrics import mean_absolute_error, r2_score\n",
        "y_true = [10000, 12000, 15000]\n",
        "y_pred = [9800, 11800, 14700]\n",
        "MAE = mean_absolute_error(y_true, y_pred)\n",
        "r2 = r2_score(y_true, y_pred)\n",
        "print(\"Mean Absolute Error (MAE):\", MAE)\n",
        "print(\"R² Score:\", r2)\n"
      ],
      "metadata": {
        "colab": {
          "base_uri": "https://localhost:8080/"
        },
        "id": "IDymlj966bx6",
        "outputId": "9107cb79-1903-4d57-9382-dcd252c38e0a"
      },
      "execution_count": 5,
      "outputs": [
        {
          "output_type": "stream",
          "name": "stdout",
          "text": [
            "Mean Absolute Error (MAE): 233.33333333333334\n",
            "R² Score: 0.986578947368421\n"
          ]
        }
      ]
    }
  ]
}